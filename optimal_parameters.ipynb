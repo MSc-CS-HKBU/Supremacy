{
 "cells": [
  {
   "cell_type": "markdown",
   "id": "6dbda2c9",
   "metadata": {},
   "source": [
    "#### Calculating optimal parameters for SVD algorithm"
   ]
  },
  {
   "cell_type": "code",
   "execution_count": 1,
   "id": "6346bedd",
   "metadata": {
    "ExecuteTime": {
     "end_time": "2022-04-04T04:14:21.604578Z",
     "start_time": "2022-04-04T04:13:12.511753Z"
    }
   },
   "outputs": [
    {
     "data": {
      "text/plain": [
       "{'n_factors': 20, 'n_epochs': 30, 'biased': True}"
      ]
     },
     "execution_count": 1,
     "metadata": {},
     "output_type": "execute_result"
    }
   ],
   "source": [
    "from surprise import Dataset, Reader, KNNWithMeans, SVD\n",
    "from surprise.model_selection import GridSearchCV\n",
    "\n",
    "file_path = './ratings.csv'\n",
    "reader = Reader(line_format='user item rating timestamp', sep='\\t')\n",
    "data = Dataset.load_from_file(file_path, reader=reader)\n",
    "\n",
    "svd_param_grid = {\n",
    "    'n_factors': [10, 20, 30, 40, 50], \n",
    "    'n_epochs': [10, 20, 30], \n",
    "    'biased': [True]\n",
    "}\n",
    "svd_gs = GridSearchCV(SVD, svd_param_grid, measures=['rmse'], cv=3)\n",
    "svd_gs.fit(data)\n",
    "svd_gs.best_params['rmse']"
   ]
  },
  {
   "cell_type": "markdown",
   "id": "3866691a",
   "metadata": {},
   "source": [
    "#### Calculating optimal parameters for KNNWithMeans algorithm"
   ]
  },
  {
   "cell_type": "code",
   "execution_count": 2,
   "id": "b4dc0d98",
   "metadata": {
    "ExecuteTime": {
     "end_time": "2022-04-04T04:25:34.617889Z",
     "start_time": "2022-04-04T04:14:21.605819Z"
    }
   },
   "outputs": [
    {
     "name": "stdout",
     "output_type": "stream",
     "text": [
      "Computing the cosine similarity matrix...\n",
      "Done computing similarity matrix.\n",
      "Computing the cosine similarity matrix...\n",
      "Done computing similarity matrix.\n",
      "Computing the cosine similarity matrix...\n",
      "Done computing similarity matrix.\n",
      "Computing the pearson similarity matrix...\n",
      "Done computing similarity matrix.\n",
      "Computing the pearson similarity matrix...\n",
      "Done computing similarity matrix.\n",
      "Computing the pearson similarity matrix...\n",
      "Done computing similarity matrix.\n",
      "Computing the cosine similarity matrix...\n",
      "Done computing similarity matrix.\n",
      "Computing the cosine similarity matrix...\n",
      "Done computing similarity matrix.\n",
      "Computing the cosine similarity matrix...\n",
      "Done computing similarity matrix.\n",
      "Computing the pearson similarity matrix...\n",
      "Done computing similarity matrix.\n",
      "Computing the pearson similarity matrix...\n",
      "Done computing similarity matrix.\n",
      "Computing the pearson similarity matrix...\n",
      "Done computing similarity matrix.\n",
      "Computing the cosine similarity matrix...\n",
      "Done computing similarity matrix.\n",
      "Computing the cosine similarity matrix...\n",
      "Done computing similarity matrix.\n",
      "Computing the cosine similarity matrix...\n",
      "Done computing similarity matrix.\n",
      "Computing the pearson similarity matrix...\n",
      "Done computing similarity matrix.\n",
      "Computing the pearson similarity matrix...\n",
      "Done computing similarity matrix.\n",
      "Computing the pearson similarity matrix...\n",
      "Done computing similarity matrix.\n",
      "Computing the cosine similarity matrix...\n",
      "Done computing similarity matrix.\n",
      "Computing the cosine similarity matrix...\n",
      "Done computing similarity matrix.\n",
      "Computing the cosine similarity matrix...\n",
      "Done computing similarity matrix.\n",
      "Computing the pearson similarity matrix...\n",
      "Done computing similarity matrix.\n",
      "Computing the pearson similarity matrix...\n",
      "Done computing similarity matrix.\n",
      "Computing the pearson similarity matrix...\n",
      "Done computing similarity matrix.\n",
      "Computing the cosine similarity matrix...\n",
      "Done computing similarity matrix.\n",
      "Computing the cosine similarity matrix...\n",
      "Done computing similarity matrix.\n",
      "Computing the cosine similarity matrix...\n",
      "Done computing similarity matrix.\n",
      "Computing the pearson similarity matrix...\n",
      "Done computing similarity matrix.\n",
      "Computing the pearson similarity matrix...\n",
      "Done computing similarity matrix.\n",
      "Computing the pearson similarity matrix...\n",
      "Done computing similarity matrix.\n",
      "Computing the cosine similarity matrix...\n",
      "Done computing similarity matrix.\n",
      "Computing the cosine similarity matrix...\n",
      "Done computing similarity matrix.\n",
      "Computing the cosine similarity matrix...\n",
      "Done computing similarity matrix.\n",
      "Computing the pearson similarity matrix...\n",
      "Done computing similarity matrix.\n",
      "Computing the pearson similarity matrix...\n",
      "Done computing similarity matrix.\n",
      "Computing the pearson similarity matrix...\n",
      "Done computing similarity matrix.\n"
     ]
    },
    {
     "data": {
      "text/plain": [
       "{'k': 60, 'sim_options': {'name': 'cosine', 'user_based': False}}"
      ]
     },
     "execution_count": 2,
     "metadata": {},
     "output_type": "execute_result"
    }
   ],
   "source": [
    "knn_param_grid = {\n",
    "    'k': [10, 20, 30, 40, 50, 60], \n",
    "    'sim_options':{\n",
    "        'name': ['cosine', 'pearson'], \n",
    "        'user_based': [False]\n",
    "    }\n",
    "}\n",
    "knn_gs = GridSearchCV(KNNWithMeans, knn_param_grid, measures=['rmse'], cv=3)\n",
    "knn_gs.fit(data)\n",
    "knn_gs.best_params['rmse']"
   ]
  }
 ],
 "metadata": {
  "kernelspec": {
   "display_name": "Python 3 (ipykernel)",
   "language": "python",
   "name": "python3"
  },
  "language_info": {
   "codemirror_mode": {
    "name": "ipython",
    "version": 3
   },
   "file_extension": ".py",
   "mimetype": "text/x-python",
   "name": "python",
   "nbconvert_exporter": "python",
   "pygments_lexer": "ipython3",
   "version": "3.8.12"
  }
 },
 "nbformat": 4,
 "nbformat_minor": 5
}
